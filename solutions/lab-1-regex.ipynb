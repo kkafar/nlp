{
 "cells": [
  {
   "cell_type": "code",
   "execution_count": 1,
   "id": "a0a37d3f",
   "metadata": {},
   "outputs": [
    {
     "name": "stderr",
     "output_type": "stream",
     "text": [
      "/home/kkafara/.cache/virtualenvs/python-3.11-venv-ds/lib/python3.11/site-packages/tqdm/auto.py:21: TqdmWarning: IProgress not found. Please update jupyter and ipywidgets. See https://ipywidgets.readthedocs.io/en/stable/user_install.html\n",
      "  from .autonotebook import tqdm as notebook_tqdm\n"
     ]
    }
   ],
   "source": [
    "import datasets as ds\n",
    "import regex\n",
    "from pprint import pprint"
   ]
  },
  {
   "cell_type": "code",
   "execution_count": 2,
   "id": "7dddf77a",
   "metadata": {},
   "outputs": [],
   "source": [
    "dataset_name = 'clarin-knext/fiqa-pl'\n",
    "dataset_config_name = 'corpus'"
   ]
  },
  {
   "cell_type": "code",
   "execution_count": 3,
   "id": "d3260b8c",
   "metadata": {},
   "outputs": [
    {
     "data": {
      "text/plain": [
       "['corpus']"
      ]
     },
     "execution_count": 3,
     "metadata": {},
     "output_type": "execute_result"
    }
   ],
   "source": [
    "ds.get_dataset_split_names(dataset_name, dataset_config_name)"
   ]
  },
  {
   "cell_type": "code",
   "execution_count": 4,
   "id": "be8e1c0c",
   "metadata": {},
   "outputs": [
    {
     "data": {
      "text/plain": [
       "['corpus', 'queries']"
      ]
     },
     "execution_count": 4,
     "metadata": {},
     "output_type": "execute_result"
    }
   ],
   "source": [
    "ds.get_dataset_config_names(dataset_name)"
   ]
  },
  {
   "cell_type": "code",
   "execution_count": 5,
   "id": "035f652a",
   "metadata": {},
   "outputs": [
    {
     "data": {
      "text/plain": [
       "DatasetDict({\n",
       "    corpus: Dataset({\n",
       "        features: ['_id', 'title', 'text'],\n",
       "        num_rows: 57638\n",
       "    })\n",
       "})"
      ]
     },
     "execution_count": 5,
     "metadata": {},
     "output_type": "execute_result"
    }
   ],
   "source": [
    "whole_ds = ds.load_dataset(dataset_name, dataset_config_name)\n",
    "whole_ds"
   ]
  },
  {
   "cell_type": "code",
   "execution_count": 6,
   "id": "76822a40",
   "metadata": {},
   "outputs": [
    {
     "data": {
      "text/plain": [
       "Dataset({\n",
       "    features: ['_id', 'title', 'text'],\n",
       "    num_rows: 57638\n",
       "})"
      ]
     },
     "execution_count": 6,
     "metadata": {},
     "output_type": "execute_result"
    }
   ],
   "source": [
    "corpus = whole_ds['corpus']\n",
    "corpus"
   ]
  },
  {
   "cell_type": "code",
   "execution_count": 7,
   "id": "4b7ed4b7",
   "metadata": {},
   "outputs": [
    {
     "name": "stdout",
     "output_type": "stream",
     "text": [
      "<class 'list'>\n"
     ]
    }
   ],
   "source": [
    "text_column = corpus['text']\n",
    "print(type(text_column))"
   ]
  },
  {
   "cell_type": "code",
   "execution_count": 8,
   "id": "a9b6b6ea",
   "metadata": {},
   "outputs": [
    {
     "data": {
      "text/plain": [
       "'Nie mówię, że nie podoba mi się też pomysł szkolenia w miejscu pracy, ale nie możesz oczekiwać, że firma to zrobi. Szkolenie pracowników to nie ich praca – oni tworzą oprogramowanie. Być może systemy edukacyjne w Stanach Zjednoczonych (lub ich studenci) powinny trochę martwić się o zdobycie umiejętności rynkowych w zamian za ich ogromne inwestycje w edukację, zamiast wychodzić z tysiącami zadłużonych studentów i narzekać, że nie są do niczego wykwalifikowani.'"
      ]
     },
     "execution_count": 8,
     "metadata": {},
     "output_type": "execute_result"
    }
   ],
   "source": [
    "text_column[0]"
   ]
  },
  {
   "cell_type": "markdown",
   "id": "234ad226",
   "metadata": {},
   "source": [
    "## Zadania 1 i 2\n",
    "\n",
    "Wyrażenie regularne rozpoznające \"godzinę\" / \"czas\".\n",
    "\n",
    "Chcę rozpoznawać specyfikacje czasu typu:\n",
    "\n",
    "* 20:30\n",
    "* 20:30:15\n",
    "* 07:30\n",
    "* 7:30:15\n",
    "* 7:30:05\n",
    "* 7:05:05\n",
    "\n",
    "Czyli zakładam, że poszczególne części są oddzielone `:`, bez spacji, godzina może być jednocyfrowa, minuty / sekundy zawsze w formacie dwucyfrowym.\n",
    "\n",
    "Dobrze byłoby pewnie też założyć jakieś ograniczenia na wartości (godzina $\\in [0, 24)$, minuty $\\in [0, 60)$, itd.). ~~Na razie tego nie robię, popatrzę na wyniki,\n",
    "jeżeli będą łapać się rzeczy których nie chcemy, to wtedy będę komplikował.~~"
   ]
  },
  {
   "cell_type": "code",
   "execution_count": 9,
   "id": "1ead77ad",
   "metadata": {},
   "outputs": [],
   "source": [
    "# basic_time_regex = regex.compile(r'(\\d{1,2}:\\d{2}(:\\d{2})?)')\n",
    "templ = r'((([0-1]?[0-9])|(2[0-3])):[0-5][0-9](:[0-5][0-9])?)'\n",
    "time_regex = regex.compile(templ)"
   ]
  },
  {
   "cell_type": "code",
   "execution_count": 10,
   "id": "d2c74f85",
   "metadata": {},
   "outputs": [
    {
     "data": {
      "text/plain": [
       "469"
      ]
     },
     "execution_count": 10,
     "metadata": {},
     "output_type": "execute_result"
    }
   ],
   "source": [
    "time_matches = []\n",
    "for paragraph in text_column:\n",
    "    match = regex.findall(time_regex, paragraph)\n",
    "    if match is not None and len(match) != 0:\n",
    "        time_matches.extend(map(lambda cg: cg[0], match)) # We re interested only in first capture group \n",
    "\n",
    "# pprint(time_matches)\n",
    "len(time_matches)"
   ]
  },
  {
   "cell_type": "markdown",
   "id": "2692e459",
   "metadata": {},
   "source": [
    "Wyrażenie regularne rozpoznające datę\n",
    "\n",
    "Chcę rozpoznawać daty formatu:\n",
    "\n",
    "1. dd/mm/yy\n",
    "2. dd nazwa_miesiaca\n",
    "3. d nazwa_miesiaca\n",
    "\n",
    "Takiego wyrażenia np. jak \"we wrześniu\" nie traktuję jako datę. \n",
    "\n",
    "Walidację zakresów (wartość dla dni, miesiący, lat) robię jedynie ogólnie, nie rozróżniam dla poszczególnych miesięcy. Takie rzeczy można później łatwo\n",
    "odfiltrować \"normalnie w kodzie\" bez kombinowania z regexami.\n",
    "Regexa tworzę też tak, żeby uniknąć obsługi polskich znaków diakrytycznych. Sprawdziłem tylko, że `\\w` w Pythonie (w `regex`) \"łapie\" polskie znaki."
   ]
  },
  {
   "cell_type": "code",
   "execution_count": 11,
   "id": "f02c8ab8",
   "metadata": {},
   "outputs": [],
   "source": [
    "# Testowałem z (([0-2][1-9])|(3[0-1]))|([1-9])) zamiast \\d{1,2} -- ten sam wynik\n",
    "templ = r'((\\d{1,2}\\s+(stycz|lut|mar[cz]|kwie|maj|czerw|lip|sierp|wrze(si|śn)|paźd|listopad|grud)\\w+)|((([0-2][1-9])|(3[0-1]))/((0[1-9])|(1[0-2]))/\\d{2}))'\n",
    "basic_date_regex = regex.compile(templ, regex.IGNORECASE)"
   ]
  },
  {
   "cell_type": "code",
   "execution_count": 12,
   "id": "dbf795ab",
   "metadata": {},
   "outputs": [
    {
     "data": {
      "text/plain": [
       "2100"
      ]
     },
     "execution_count": 12,
     "metadata": {},
     "output_type": "execute_result"
    }
   ],
   "source": [
    "date_matches = []\n",
    "for paragraph in text_column:\n",
    "    match = regex.findall(basic_date_regex, paragraph)\n",
    "    if match is not None and len(match) != 0:\n",
    "        date_matches.extend(map(lambda cg: cg, match)) # Removing output of second capture group\n",
    "        # print(match)\n",
    "# pprint(date_matches)\n",
    "len(date_matches)"
   ]
  },
  {
   "cell_type": "markdown",
   "id": "87edde2b",
   "metadata": {},
   "source": [
    "## Zadanie 3"
   ]
  },
  {
   "cell_type": "code",
   "execution_count": 13,
   "id": "7c10d0e5",
   "metadata": {},
   "outputs": [],
   "source": [
    "import matplotlib.pyplot as plt\n",
    "import seaborn as sns\n",
    "import polars as pl\n",
    "from collections import defaultdict"
   ]
  },
  {
   "cell_type": "code",
   "execution_count": 14,
   "id": "0eac9a5a",
   "metadata": {},
   "outputs": [],
   "source": [
    "def count_hour_appearances(time_matches: list[str]) -> dict[str, int]:\n",
    "    counts = defaultdict(int)\n",
    "    for match in time_matches:\n",
    "        hour = match.split(':')[0]\n",
    "        if len(hour) == 1:\n",
    "            hour = '0' + hour\n",
    "        counts[hour] += 1\n",
    "    return counts\n",
    "\n",
    "        \n",
    "hour_count = count_hour_appearances(time_matches)\n",
    "items = list(hour_count.items())\n",
    "df_time = pl.DataFrame({\n",
    "    'hour': pl.Series(map(lambda kv: kv[0], items)),\n",
    "    'count': pl.Series(map(lambda kv: kv[1], items))\n",
    "}).sort(pl.col('hour'))\n",
    "# df_time"
   ]
  },
  {
   "cell_type": "code",
   "execution_count": 15,
   "id": "19c919c2",
   "metadata": {},
   "outputs": [],
   "source": [
    "unclassified_label = 'zother'\n",
    "month_prefixes = ['stycz','lut','mar','kwie','maj','czerw','lip','sierp','wrze','paźd','listopad','grud']\n",
    "month_mapping = {\n",
    "    num: prefix for num, prefix in zip([str(m) if m >= 10 else '0' + str(m) for m in range(1, 12 + 1)], month_prefixes)\n",
    "}\n",
    "\n",
    "def find_month_prefix_for_match(match: str) -> str | None:\n",
    "    for prefix in month_prefixes:\n",
    "        if match.startswith(prefix):\n",
    "            return prefix\n",
    "    return unclassified_label\n",
    "\n",
    "def count_month_appearances(date_matches: list[tuple[str, str, str, str]]) -> dict[str, int]:\n",
    "    counts = defaultdict(int)\n",
    "    for match in date_matches:\n",
    "        if match[4] != '' and int(match[4].split('/')[1]) not in range(0, 13):\n",
    "            print(match[3])\n",
    "        month = find_month_prefix_for_match(match[2].lower()) if match[2] != '' else month_mapping.get(match[4].split('/')[1], unclassified_label)\n",
    "        counts[month] += 1\n",
    "    return counts\n",
    "\n",
    "\n",
    "month_count = count_month_appearances(date_matches)\n",
    "items = sorted(list(month_count.items()), key=lambda kv: month_prefixes.index(kv[0]) if kv[0] != unclassified_label else 99)\n",
    "df_date = pl.DataFrame({\n",
    "    'month': pl.Series(map(lambda kv: kv[0], items)),\n",
    "    'count': pl.Series(map(lambda kv: kv[1], items))\n",
    "})"
   ]
  },
  {
   "cell_type": "code",
   "execution_count": 16,
   "id": "6ba3d571",
   "metadata": {},
   "outputs": [
    {
     "data": {
      "image/png": "[encoded data removed]",
      "text/plain": [
       "<Figure size 2000x1000 with 2 Axes>"
      ]
     },
     "metadata": {},
     "output_type": "display_data"
    }
   ],
   "source": [
    "fig, ax = plt.subplots(nrows=1, ncols=2, figsize=(20, 10))\n",
    "sns.barplot(data=df_time, x='hour', y='count', ax=ax[0])\n",
    "sns.barplot(data=df_date, x='month', y='count', ax=ax[1])\n",
    "ax[0].bar_label(ax[0].containers[0])\n",
    "ax[1].bar_label(ax[1].containers[0])\n",
    "ax[0].set(\n",
    "    title='Wystąpienia godzin',\n",
    "    xlabel='Godzina',\n",
    "    ylabel='Liczba wystąpień'\n",
    ")\n",
    "ax[1].set(\n",
    "    title='Wystąpienia miesięcy',\n",
    "    xlabel='Miesiąc',\n",
    "    ylabel='Liczba wystąpień'\n",
    ")\n",
    "fig.tight_layout()"
   ]
  },
  {
   "cell_type": "markdown",
   "id": "bf4d702d",
   "metadata": {},
   "source": [
    "## Zadania 4, 5, 6"
   ]
  },
  {
   "cell_type": "code",
   "execution_count": 17,
   "id": "f29ae71b",
   "metadata": {},
   "outputs": [],
   "source": [
    "jan_regex_base = regex.compile(r'\\bstycz\\w+', regex.IGNORECASE)\n",
    "\n",
    "# Dowolna liczba przed miesiącem, nie zawężam (nie jest wyspecyfikowane w poleceniu + nie chcę gubić)\n",
    "jan_regex_num_space = regex.compile(r'\\d+ \\bstycz\\w+', regex.IGNORECASE)\n",
    "jan_regex_not_num_space = regex.compile(r'(?<!\\d+ )\\bstycz\\w+', regex.IGNORECASE)"
   ]
  },
  {
   "cell_type": "code",
   "execution_count": 18,
   "id": "322e7d1e",
   "metadata": {},
   "outputs": [
    {
     "name": "stdout",
     "output_type": "stream",
     "text": [
      "Podstowowe: 508, liczba+spacja: 215, bez liczby+spacji: 293, razem (not)?liczba+spacja: 508\n",
      "Zgadza się\n"
     ]
    }
   ],
   "source": [
    "jan_matches_base = []\n",
    "jan_matches_num_space = []\n",
    "jan_matches_not_num_space = []\n",
    "\n",
    "for paragraph in text_column:\n",
    "    match = regex.findall(jan_regex_base, paragraph)\n",
    "    if match is not None and len(match) > 0:\n",
    "        jan_matches_base.extend(match)\n",
    "\n",
    "    match = regex.findall(jan_regex_num_space, paragraph)\n",
    "    if match is not None and len(match) > 0:\n",
    "        jan_matches_num_space.extend(match)\n",
    "\n",
    "    match = regex.findall(jan_regex_not_num_space, paragraph)\n",
    "    if match is not None and len(match) > 0:\n",
    "        # print(match)\n",
    "        jan_matches_not_num_space.extend(match)\n",
    "\n",
    "print(f'Podstowowe: {len(jan_matches_base)}, liczba+spacja: {len(jan_matches_num_space)}, bez liczby+spacji: {len(jan_matches_not_num_space)}, razem (not)?liczba+spacja: {len(jan_matches_num_space) + len(jan_matches_not_num_space)}')\n",
    "print(\"Zgadza się\" if len(jan_matches_base) == len(jan_matches_not_num_space) + len(jan_matches_num_space) else \"Nie zgadza się\")"
   ]
  },
  {
   "cell_type": "markdown",
   "id": "33439e70",
   "metadata": {},
   "source": [
    "## Pytania\n",
    "\n",
    "### Czy wyrażenia regularne są dobre w wychwytywaniu czasu / dat\n",
    "\n",
    "Nie. Żeby stworzyć sensowne wyrażenie regularne trzeba zaplanować jakie postaci wyrażeń będzie się chciało odnajdywać. W przypadku czasu / dat, w języku \n",
    "naturlanym istnieje mnogość form w jakich czas / data może być wyrażona. W takiej sytuacji bardzo łatwo zgubić jakiś przypadek. Ja np. nie uwzględniałem dat\n",
    "wyrażonych słownie, np. \"pierwszego września\", \"dziesiątego października\" (godziny podobnie), prawdopodobnie gubiąc jakieś przypadki z zbioru danych.\n",
    "Nie uwzglęniam także literówek, np. zamiast \"30 grudnia\", \"30 gurdnia\". Przez moje regexy przejdą także daty niepoprawne,\n",
    "np. 31/02/23, bądź w ogóle nie daty: \"22 marchewki\". Stworzenie wyrażenia regularnego obsługującego to jest możliwe (doklejając kolejne alternatywy dla każdego z miesięcy), natomiast robienie\n",
    "tego regexem jest pozbawione sensu (chyba, że nie ma innej możliwości).\n",
    "Pominiętych przeze mnie przypadków jest jeszcze więcej, więc powtarzam: robienie tego regexem to ostateczność. Myślę, że regexy nadają się lepiej\n",
    "do przeszukiwania bardziej uporządkowanych danych np. logów.\n",
    "\n",
    "### Jak upewnić się że znaleziono wszystkie wyrażenia danego typu i tylko wyrażenia danego typu?\n",
    "\n",
    "Nie sądzę by był taki sposób. Jeżeli zbiór danych jest mały -- oczywiście możemy zweryfikować to manualnie \n",
    "(tak też zobaczyłem, że w zadaniach 4-6 dopasowywało mi `styczna`, choć słowo to nie jest związane ze styczniem...). Możemy też porównać się \n",
    "z wynikami zwróconymi przez inne narzędzia (np. modele językowe). Natomiast gdyby istniał sposób dający poprawne wyniki, \n",
    "do których moglibyśmy się odnieść w celu porównania to nie używalibyśmy regexów.\n",
    "\n",
    "\n",
    "### Odnośnie zadań 4-6\n",
    "\n",
    "Nie jestem zdziwiony, że się zgadza, bo te dwa węższe regexy (z liczbą i bez liczby) dopełniają się do podstawowego. Natomiast zdaję sobie sprawę, że mój regex\n",
    "zbiera też takie słowa jak `styczna`, `stycznej` itd. (z liczbami i bez).\n"
   ]
  }
 ],
 "metadata": {
  "kernelspec": {
   "display_name": "Python 3 (ipykernel)",
   "language": "python",
   "name": "python3"
  },
  "language_info": {
   "codemirror_mode": {
    "name": "ipython",
    "version": 3
   },
   "file_extension": ".py",
   "mimetype": "text/x-python",
   "name": "python",
   "nbconvert_exporter": "python",
   "pygments_lexer": "ipython3",
   "version": "3.11.6"
  }
 },
 "nbformat": 4,
 "nbformat_minor": 5
}
