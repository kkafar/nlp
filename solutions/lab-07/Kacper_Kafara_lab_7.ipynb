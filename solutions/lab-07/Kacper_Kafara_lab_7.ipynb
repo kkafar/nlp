{
 "cells": [
  {
   "cell_type": "code",
   "execution_count": 1,
   "metadata": {},
   "outputs": [
    {
     "name": "stderr",
     "output_type": "stream",
     "text": [
      "/home/kkafara/.cache/virtualenvs/python-3.11-venv-ds/lib/python3.11/site-packages/tqdm/auto.py:21: TqdmWarning: IProgress not found. Please update jupyter and ipywidgets. See https://ipywidgets.readthedocs.io/en/stable/user_install.html\n",
      "  from .autonotebook import tqdm as notebook_tqdm\n"
     ]
    }
   ],
   "source": [
    "import datasets as ds\n",
    "import spacy\n",
    "import polars as pl"
   ]
  },
  {
   "cell_type": "code",
   "execution_count": 2,
   "metadata": {},
   "outputs": [],
   "source": [
    "ds_name = \"clarin-knext/fiqa-pl\"\n",
    "res_ds_name = \"clarin-knext/fiqa-pl-qrels\"\n",
    "\n",
    "corpus_df = ds.load_dataset(ds_name, \"corpus\")[\"corpus\"].to_pandas()"
   ]
  },
  {
   "cell_type": "code",
   "execution_count": 3,
   "metadata": {},
   "outputs": [
    {
     "data": {
      "text/html": [
       "<div>\n",
       "<style scoped>\n",
       "    .dataframe tbody tr th:only-of-type {\n",
       "        vertical-align: middle;\n",
       "    }\n",
       "\n",
       "    .dataframe tbody tr th {\n",
       "        vertical-align: top;\n",
       "    }\n",
       "\n",
       "    .dataframe thead th {\n",
       "        text-align: right;\n",
       "    }\n",
       "</style>\n",
       "<table border=\"1\" class=\"dataframe\">\n",
       "  <thead>\n",
       "    <tr style=\"text-align: right;\">\n",
       "      <th></th>\n",
       "      <th>_id</th>\n",
       "      <th>title</th>\n",
       "      <th>text</th>\n",
       "    </tr>\n",
       "  </thead>\n",
       "  <tbody>\n",
       "    <tr>\n",
       "      <th>0</th>\n",
       "      <td>3</td>\n",
       "      <td></td>\n",
       "      <td>Nie mówię, że nie podoba mi się też pomysł szk...</td>\n",
       "    </tr>\n",
       "    <tr>\n",
       "      <th>1</th>\n",
       "      <td>31</td>\n",
       "      <td></td>\n",
       "      <td>Tak więc nic nie zapobiega fałszywym ocenom po...</td>\n",
       "    </tr>\n",
       "    <tr>\n",
       "      <th>2</th>\n",
       "      <td>56</td>\n",
       "      <td></td>\n",
       "      <td>Nigdy nie możesz korzystać z FSA dla indywidua...</td>\n",
       "    </tr>\n",
       "  </tbody>\n",
       "</table>\n",
       "</div>"
      ],
      "text/plain": [
       "  _id title                                               text\n",
       "0   3        Nie mówię, że nie podoba mi się też pomysł szk...\n",
       "1  31        Tak więc nic nie zapobiega fałszywym ocenom po...\n",
       "2  56        Nigdy nie możesz korzystać z FSA dla indywidua..."
      ]
     },
     "execution_count": 3,
     "metadata": {},
     "output_type": "execute_result"
    }
   ],
   "source": [
    "corpus_df.head(3)"
   ]
  },
  {
   "cell_type": "markdown",
   "metadata": {},
   "source": [
    "# Zadanie 2\n",
    "\n",
    "Take 1 thousand random passages from the FIQA-PL corpus."
   ]
  },
  {
   "cell_type": "code",
   "execution_count": 4,
   "metadata": {},
   "outputs": [],
   "source": [
    "sample_size = 1000\n",
    "corpus_df = corpus_df.sample(n=sample_size)"
   ]
  },
  {
   "cell_type": "code",
   "execution_count": 5,
   "metadata": {},
   "outputs": [
    {
     "data": {
      "text/plain": [
       "3000"
      ]
     },
     "execution_count": 5,
     "metadata": {},
     "output_type": "execute_result"
    }
   ],
   "source": [
    "corpus_df.size"
   ]
  },
  {
   "cell_type": "code",
   "execution_count": 6,
   "metadata": {},
   "outputs": [],
   "source": [
    "corpus_df = ds.Dataset.from_pandas(corpus_df)"
   ]
  },
  {
   "cell_type": "markdown",
   "metadata": {},
   "source": [
    "# Zadanie 3\n",
    "\n",
    "Use the lemmatized and sentence split documents (from ex. 5) to identify the expressions that consist of consecutive words starting with a capital letter (you will have to look at the inflected form of the word to check its capitalization) that do not occupy the first position in a sentence."
   ]
  },
  {
   "cell_type": "code",
   "execution_count": 7,
   "metadata": {},
   "outputs": [],
   "source": [
    "# Tokenizer dla j. polskiego\n",
    "# Lematyzacja jest w pipeline'ie\n",
    "pl_pipeline = spacy.load('pl_core_news_sm')"
   ]
  },
  {
   "cell_type": "code",
   "execution_count": 8,
   "metadata": {},
   "outputs": [],
   "source": [
    "texts = corpus_df['text']\n",
    "tokenized_texts = []\n",
    "for text in texts:\n",
    "    doc = pl_pipeline(text)\n",
    "    tokenized_texts.append(doc)\n",
    "\n",
    "joined_doc: spacy.tokens.Doc = spacy.tokens.Doc.from_docs(tokenized_texts)\n",
    "del tokenized_texts"
   ]
  },
  {
   "cell_type": "markdown",
   "metadata": {},
   "source": [
    "# Zadanie 4\n",
    "\n",
    "Compute the frequency of each identified expression and print 50 results with the largest number of occurrences."
   ]
  },
  {
   "cell_type": "code",
   "execution_count": 9,
   "metadata": {},
   "outputs": [
    {
     "name": "stderr",
     "output_type": "stream",
     "text": [
      "7181it [00:00, 19203.47it/s]\n"
     ]
    },
    {
     "data": {
      "text/plain": [
       "[('dolar_amerykański', 162),\n",
       " ('twój', 100),\n",
       " ('ty', 73),\n",
       " ('USA', 55),\n",
       " ('dolar_amerykański dolar_amerykański', 55),\n",
       " ('to', 38),\n",
       " ('Ciebie', 31),\n",
       " ('nie', 29),\n",
       " ('Twój', 28),\n",
       " ('Stany Zjednoczone', 21),\n",
       " ('jeśli', 19),\n",
       " ('ETF', 18),\n",
       " ('Apple', 18),\n",
       " ('dolar_amerykański dolar_amerykański dolar_amerykański', 17),\n",
       " ('w', 17),\n",
       " ('Amazon', 16),\n",
       " ('IRS', 15),\n",
       " ('Indie', 15),\n",
       " ('Roth IRA', 15),\n",
       " ('IRA', 14),\n",
       " ('Google', 13),\n",
       " ('słowo', 12),\n",
       " ('B', 12),\n",
       " ('Hamilton', 12),\n",
       " ('czy', 11),\n",
       " ('PM', 10),\n",
       " ('jak', 10),\n",
       " ('a', 10),\n",
       " ('Facebook', 9),\n",
       " ('być', 9),\n",
       " ('K', 9),\n",
       " ('Rs', 9),\n",
       " ('mieć', 9),\n",
       " ('po', 8),\n",
       " ('tak', 8),\n",
       " ('LLC', 8),\n",
       " ('Roth', 8),\n",
       " ('CD', 8),\n",
       " ('Ameryka', 8),\n",
       " ('podsumowanie', 8),\n",
       " ('RRSP', 7),\n",
       " ('ten', 7),\n",
       " ('myśleć', 7),\n",
       " ('MBA', 7),\n",
       " ('ETF ETF', 7),\n",
       " ('HSA', 7),\n",
       " ('china', 7),\n",
       " ('twój twój', 7),\n",
       " ('Twoją', 7),\n",
       " ('RMD', 7)]"
      ]
     },
     "execution_count": 9,
     "metadata": {},
     "output_type": "execute_result"
    }
   ],
   "source": [
    "from collections import Counter\n",
    "from tqdm import tqdm\n",
    "\n",
    "def entity_yielder(doc: spacy.tokens.Doc):\n",
    "    if len(doc) < 2:\n",
    "        return\n",
    "\n",
    "    iterator = iter(doc)\n",
    "    next(iterator)  #skip first token\n",
    "\n",
    "    detection = False\n",
    "    token_agg = \"\"\n",
    "    \n",
    "    try:\n",
    "        while token := next(iterator):\n",
    "            if token.text[0].isupper():\n",
    "                detection = True\n",
    "\n",
    "            while detection:\n",
    "                token_agg = token_agg + ' ' + token.lemma_\n",
    "                try:\n",
    "                    token = next(iterator)\n",
    "                    if not token.text[0].isupper():\n",
    "                        break\n",
    "                except StopIteration:\n",
    "                    break\n",
    "            \n",
    "            if detection:\n",
    "                yield token_agg[1:]\n",
    "            \n",
    "            detection = False\n",
    "    except StopIteration:\n",
    "        pass\n",
    "\n",
    "main_counter = Counter()\n",
    "\n",
    "for doc in tqdm(joined_doc.sents):\n",
    "    counter = Counter(entity_yielder(doc))\n",
    "    main_counter += counter\n",
    "\n",
    "main_counter.most_common(50)"
   ]
  },
  {
   "cell_type": "markdown",
   "metadata": {},
   "source": [
    "Wygląda to źle, patrz: \"Stany Zjednoczone\", spodziewałem się, że skoro biorę `lemma_` z tokenu, to powinna być\n",
    "forma pojedyncza, ale najwyraźniej nie jest.\n",
    "\n",
    "Natomiast w przypadku \"Wielki Brytania\" to już działa :thinking_face:\n",
    "\n",
    "Nie wiem też dlaczego np. \"czy\" jest wysoko...\n",
    "\n",
    "Nie widzę błędu w kodzie, więc na razie idę dalej"
   ]
  },
  {
   "cell_type": "markdown",
   "metadata": {},
   "source": [
    "# Zadanie 5\n",
    "\n",
    "Apply the NER from SpaCy to identify the named entities in the same set of documents.\n"
   ]
  },
  {
   "cell_type": "code",
   "execution_count": 10,
   "metadata": {},
   "outputs": [
    {
     "name": "stderr",
     "output_type": "stream",
     "text": [
      "0it [00:00, ?it/s]"
     ]
    },
    {
     "name": "stderr",
     "output_type": "stream",
     "text": [
      "7181it [00:21, 339.26it/s]\n"
     ]
    }
   ],
   "source": [
    "class EntityWrapper:\n",
    "    def __init__(self, span) -> None:\n",
    "        self.span = span\n",
    "        self.agg = self.compute_token_add()\n",
    "\n",
    "    @property\n",
    "    def start(self):\n",
    "        return self.span.start\n",
    "\n",
    "    @property\n",
    "    def label(self):\n",
    "        return self.span.label\n",
    "\n",
    "        \n",
    "    def compute_token_add(self):\n",
    "        agg = ''\n",
    "        for token in self.span:\n",
    "            agg = agg + ' ' + token.lemma_\n",
    "        return agg[1:]\n",
    "\n",
    "        \n",
    "    def __eq__(self, other: object) -> bool:\n",
    "        return self.agg == other.agg\n",
    "\n",
    "    def __hash__(self) -> int:\n",
    "        return hash(self.agg)\n",
    "\n",
    "    def __repr__(self) -> str:\n",
    "        return self.agg\n",
    "\n",
    "    def __str__(self) -> str:\n",
    "        return self.agg\n",
    "            \n",
    "\n",
    "def wrapper_from_entity(span) -> EntityWrapper:\n",
    "    return EntityWrapper(span)\n",
    "\n",
    "def skip_adapter(iterable):  # must be an iterable, not an generator!\n",
    "    iterable = iter(iterable)\n",
    "\n",
    "    try:\n",
    "        next(iterable) # skip first\n",
    "    except StopIteration:\n",
    "        return\n",
    "\n",
    "    try:\n",
    "        while span := next(iterable):\n",
    "            yield span\n",
    "    except StopIteration:\n",
    "        pass\n",
    "\n",
    "main_counter = Counter()\n",
    "for doc in tqdm(joined_doc.sents):\n",
    "    ents = list(map(wrapper_from_entity, skip_adapter(doc.ents)))\n",
    "    main_counter += Counter(ents)"
   ]
  },
  {
   "cell_type": "code",
   "execution_count": 11,
   "metadata": {},
   "outputs": [
    {
     "data": {
      "text/plain": [
       "[(USA, 22),\n",
       " (Indie, 14),\n",
       " (amerykański, 13),\n",
       " (Douglas, 13),\n",
       " (Apple, 11),\n",
       " (ETF, 10),\n",
       " (Roth IRA, 8),\n",
       " (Hamilton, 8),\n",
       " (2015 rok ., 7),\n",
       " (GM, 7)]"
      ]
     },
     "execution_count": 11,
     "metadata": {},
     "output_type": "execute_result"
    }
   ],
   "source": [
    "main_counter.most_common(10)"
   ]
  },
  {
   "cell_type": "markdown",
   "metadata": {},
   "source": [
    "# Zadanie 6\n",
    "\n",
    "Plot the frequency (histogram) of the identified classes."
   ]
  },
  {
   "cell_type": "code",
   "execution_count": 22,
   "metadata": {},
   "outputs": [
    {
     "data": {
      "text/html": [
       "<div><style>\n",
       ".dataframe > thead > tr > th,\n",
       ".dataframe > tbody > tr > td {\n",
       "  text-align: right;\n",
       "  white-space: pre-wrap;\n",
       "}\n",
       "</style>\n",
       "<small>shape: (5, 2)</small><table border=\"1\" class=\"dataframe\"><thead><tr><th>Category</th><th>Count</th></tr><tr><td>str</td><td>i64</td></tr></thead><tbody><tr><td>&quot;persName&quot;</td><td>253</td></tr><tr><td>&quot;orgName&quot;</td><td>255</td></tr><tr><td>&quot;date&quot;</td><td>98</td></tr><tr><td>&quot;placeName&quot;</td><td>217</td></tr><tr><td>&quot;geogName&quot;</td><td>43</td></tr></tbody></table></div>"
      ],
      "text/plain": [
       "shape: (5, 2)\n",
       "┌───────────┬───────┐\n",
       "│ Category  ┆ Count │\n",
       "│ ---       ┆ ---   │\n",
       "│ str       ┆ i64   │\n",
       "╞═══════════╪═══════╡\n",
       "│ persName  ┆ 253   │\n",
       "│ orgName   ┆ 255   │\n",
       "│ date      ┆ 98    │\n",
       "│ placeName ┆ 217   │\n",
       "│ geogName  ┆ 43    │\n",
       "└───────────┴───────┘"
      ]
     },
     "execution_count": 22,
     "metadata": {},
     "output_type": "execute_result"
    }
   ],
   "source": [
    "from collections import defaultdict\n",
    "\n",
    "data_dict = defaultdict(int)\n",
    "for wrapper, count in main_counter.items():\n",
    "    data_dict[wrapper.span.label_] += count\n",
    "\n",
    "data_df = pl.DataFrame(list(data_dict.items()), schema=['Category', 'Count'])\n",
    "data_df.head(10)"
   ]
  },
  {
   "cell_type": "code",
   "execution_count": 23,
   "metadata": {},
   "outputs": [
    {
     "name": "stderr",
     "output_type": "stream",
     "text": [
      "/tmp/ipykernel_5159/3633451267.py:4: FutureWarning: \n",
      "\n",
      "Passing `palette` without assigning `hue` is deprecated and will be removed in v0.14.0. Assign the `x` variable to `hue` and set `legend=False` for the same effect.\n",
      "\n",
      "  sns.barplot(x='Category', y='Count', data=data_df, palette='pastel')\n"
     ]
    },
    {
     "data": {
      "text/plain": [
       "<Axes: xlabel='Category', ylabel='Count'>"
      ]
     },
     "execution_count": 23,
     "metadata": {},
     "output_type": "execute_result"
    },
    {
     "data": {
      "image/png": "[encoded data removed]",
      "text/plain": [
       "<Figure size 640x480 with 1 Axes>"
      ]
     },
     "metadata": {},
     "output_type": "display_data"
    }
   ],
   "source": [
    "import seaborn as sns\n",
    "\n",
    "sns.set(style='white')\n",
    "sns.barplot(x='Category', y='Count', data=data_df, palette='pastel')"
   ]
  },
  {
   "cell_type": "markdown",
   "metadata": {},
   "source": [
    "# Zadanie 7\n",
    "\n",
    "Display 10 most frequent Named Entities for each identified type."
   ]
  },
  {
   "cell_type": "code",
   "execution_count": 27,
   "metadata": {},
   "outputs": [
    {
     "data": {
      "text/html": [
       "<div><style>\n",
       ".dataframe > thead > tr > th,\n",
       ".dataframe > tbody > tr > td {\n",
       "  text-align: right;\n",
       "  white-space: pre-wrap;\n",
       "}\n",
       "</style>\n",
       "<small>shape: (10, 3)</small><table border=\"1\" class=\"dataframe\"><thead><tr><th>category</th><th>entity</th><th>count</th></tr><tr><td>str</td><td>str</td><td>i64</td></tr></thead><tbody><tr><td>&quot;persName&quot;</td><td>&quot;Buffett&quot;</td><td>1</td></tr><tr><td>&quot;orgName&quot;</td><td>&quot;Wall Streeters…</td><td>1</td></tr><tr><td>&quot;persName&quot;</td><td>&quot;Ameren&quot;</td><td>2</td></tr><tr><td>&quot;date&quot;</td><td>&quot;1998 rok&quot;</td><td>1</td></tr><tr><td>&quot;orgName&quot;</td><td>&quot;Lending Club&quot;</td><td>2</td></tr><tr><td>&quot;placeName&quot;</td><td>&quot;Holowan Marin&quot;</td><td>1</td></tr><tr><td>&quot;persName&quot;</td><td>&quot;Rey&quot;</td><td>1</td></tr><tr><td>&quot;placeName&quot;</td><td>&quot;Kalifornia&quot;</td><td>2</td></tr><tr><td>&quot;date&quot;</td><td>&quot;2057&quot;</td><td>1</td></tr><tr><td>&quot;date&quot;</td><td>&quot;2017 rok .&quot;</td><td>1</td></tr></tbody></table></div>"
      ],
      "text/plain": [
       "shape: (10, 3)\n",
       "┌───────────┬────────────────┬───────┐\n",
       "│ category  ┆ entity         ┆ count │\n",
       "│ ---       ┆ ---            ┆ ---   │\n",
       "│ str       ┆ str            ┆ i64   │\n",
       "╞═══════════╪════════════════╪═══════╡\n",
       "│ persName  ┆ Buffett        ┆ 1     │\n",
       "│ orgName   ┆ Wall Streeters ┆ 1     │\n",
       "│ persName  ┆ Ameren         ┆ 2     │\n",
       "│ date      ┆ 1998 rok       ┆ 1     │\n",
       "│ …         ┆ …              ┆ …     │\n",
       "│ persName  ┆ Rey            ┆ 1     │\n",
       "│ placeName ┆ Kalifornia     ┆ 2     │\n",
       "│ date      ┆ 2057           ┆ 1     │\n",
       "│ date      ┆ 2017 rok .     ┆ 1     │\n",
       "└───────────┴────────────────┴───────┘"
      ]
     },
     "execution_count": 27,
     "metadata": {},
     "output_type": "execute_result"
    }
   ],
   "source": [
    "entity_type_list = data_df.get_column(name='Category')\n",
    "entity_list = []\n",
    "category_list = []\n",
    "count_list = []\n",
    "for wrapper, count in main_counter.items():\n",
    "    entity_list.append(wrapper.agg) \n",
    "    category_list.append(wrapper.span.label_)\n",
    "    count_list.append(count)\n",
    "\n",
    "df = pl.DataFrame({\n",
    "    'category': category_list,\n",
    "    'entity': entity_list,\n",
    "    'count': count_list\n",
    "})\n",
    "df.head(10)"
   ]
  },
  {
   "cell_type": "code",
   "execution_count": 29,
   "metadata": {},
   "outputs": [
    {
     "name": "stdout",
     "output_type": "stream",
     "text": [
      "shape: (10, 3)\n",
      "┌──────────┬───────────┬───────┐\n",
      "│ category ┆ entity    ┆ count │\n",
      "│ ---      ┆ ---       ┆ ---   │\n",
      "│ str      ┆ str       ┆ i64   │\n",
      "╞══════════╪═══════════╪═══════╡\n",
      "│ persName ┆ Douglas   ┆ 13    │\n",
      "│ persName ┆ Hamilton  ┆ 8     │\n",
      "│ persName ┆ Amazon    ┆ 6     │\n",
      "│ persName ┆ Facebook  ┆ 5     │\n",
      "│ persName ┆ Obama     ┆ 4     │\n",
      "│ persName ┆ Trump     ┆ 4     │\n",
      "│ persName ┆ walmart   ┆ 3     │\n",
      "│ persName ┆ Rotha     ┆ 3     │\n",
      "│ persName ┆ Larry'emu ┆ 3     │\n",
      "│ persName ┆ Fred      ┆ 3     │\n",
      "└──────────┴───────────┴───────┘\n",
      "shape: (10, 3)\n",
      "┌──────────┬────────────┬───────┐\n",
      "│ category ┆ entity     ┆ count │\n",
      "│ ---      ┆ ---        ┆ ---   │\n",
      "│ str      ┆ str        ┆ i64   │\n",
      "╞══════════╪════════════╪═══════╡\n",
      "│ orgName  ┆ Apple      ┆ 11    │\n",
      "│ orgName  ┆ ETF        ┆ 10    │\n",
      "│ orgName  ┆ Roth IRA   ┆ 8     │\n",
      "│ orgName  ┆ GM         ┆ 7     │\n",
      "│ orgName  ┆ IRA        ┆ 6     │\n",
      "│ orgName  ┆ SEC        ┆ 4     │\n",
      "│ orgName  ┆ OPEC       ┆ 4     │\n",
      "│ orgName  ┆ Google     ┆ 4     │\n",
      "│ orgName  ┆ NYSE       ┆ 3     │\n",
      "│ orgName  ┆ sąd wysoki ┆ 2     │\n",
      "└──────────┴────────────┴───────┘\n",
      "shape: (10, 3)\n",
      "┌──────────┬────────────┬───────┐\n",
      "│ category ┆ entity     ┆ count │\n",
      "│ ---      ┆ ---        ┆ ---   │\n",
      "│ str      ┆ str        ┆ i64   │\n",
      "╞══════════╪════════════╪═══════╡\n",
      "│ date     ┆ 2015 rok . ┆ 7     │\n",
      "│ date     ┆ 2010 rok . ┆ 4     │\n",
      "│ date     ┆ 2008 rok . ┆ 3     │\n",
      "│ date     ┆ 2008 rok   ┆ 2     │\n",
      "│ date     ┆ 2013 rok   ┆ 2     │\n",
      "│ date     ┆ 2011 rok . ┆ 2     │\n",
      "│ date     ┆ 2014       ┆ 2     │\n",
      "│ date     ┆ 1987 rok . ┆ 2     │\n",
      "│ date     ┆ 2014 rok . ┆ 2     │\n",
      "│ date     ┆ 2009       ┆ 2     │\n",
      "└──────────┴────────────┴───────┘\n",
      "shape: (10, 3)\n",
      "┌───────────┬───────────────────┬───────┐\n",
      "│ category  ┆ entity            ┆ count │\n",
      "│ ---       ┆ ---               ┆ ---   │\n",
      "│ str       ┆ str               ┆ i64   │\n",
      "╞═══════════╪═══════════════════╪═══════╡\n",
      "│ placeName ┆ USA               ┆ 22    │\n",
      "│ placeName ┆ Indie             ┆ 14    │\n",
      "│ placeName ┆ amerykański       ┆ 13    │\n",
      "│ placeName ┆ Chiny             ┆ 5     │\n",
      "│ placeName ┆ Bombaj            ┆ 5     │\n",
      "│ placeName ┆ Lobo              ┆ 4     │\n",
      "│ placeName ┆ Niemcy            ┆ 4     │\n",
      "│ placeName ┆ Japonia           ┆ 3     │\n",
      "│ placeName ┆ Anglia            ┆ 3     │\n",
      "│ placeName ┆ Stany Zjednoczone ┆ 3     │\n",
      "└───────────┴───────────────────┴───────┘\n",
      "shape: (10, 3)\n",
      "┌──────────┬───────────────────┬───────┐\n",
      "│ category ┆ entity            ┆ count │\n",
      "│ ---      ┆ ---               ┆ ---   │\n",
      "│ str      ┆ str               ┆ i64   │\n",
      "╞══════════╪═══════════════════╪═══════╡\n",
      "│ geogName ┆ europejski        ┆ 3     │\n",
      "│ geogName ┆ Home Depot        ┆ 2     │\n",
      "│ geogName ┆ Bliski Wschód     ┆ 2     │\n",
      "│ geogName ┆ zamek Abercorn    ┆ 2     │\n",
      "│ geogName ┆ Rezerwa Federalny ┆ 2     │\n",
      "│ geogName ┆ Ameryka           ┆ 2     │\n",
      "│ geogName ┆ Europa            ┆ 2     │\n",
      "│ geogName ┆ Wintershall       ┆ 1     │\n",
      "│ geogName ┆ Mekka             ┆ 1     │\n",
      "│ geogName ┆ Ekwadorze         ┆ 1     │\n",
      "└──────────┴───────────────────┴───────┘\n"
     ]
    }
   ],
   "source": [
    "pl.Config.set_tbl_rows(20)\n",
    "\n",
    "for category in entity_type_list:\n",
    "    data = (df.lazy()\n",
    "            .filter(pl.col('category') == category)\n",
    "            .top_k(10, by=(pl.col('count')))\n",
    "            .collect())\n",
    "    print(data)"
   ]
  },
  {
   "cell_type": "markdown",
   "metadata": {},
   "source": [
    "# Zadanie 8\n",
    "\n",
    "Display 50 most frequent Named Entities including their count and type."
   ]
  },
  {
   "cell_type": "code",
   "execution_count": 32,
   "metadata": {},
   "outputs": [
    {
     "data": {
      "text/html": [
       "<div><style>\n",
       ".dataframe > thead > tr > th,\n",
       ".dataframe > tbody > tr > td {\n",
       "  text-align: right;\n",
       "  white-space: pre-wrap;\n",
       "}\n",
       "</style>\n",
       "<small>shape: (50, 3)</small><table border=\"1\" class=\"dataframe\"><thead><tr><th>category</th><th>entity</th><th>count</th></tr><tr><td>str</td><td>str</td><td>i64</td></tr></thead><tbody><tr><td>&quot;placeName&quot;</td><td>&quot;USA&quot;</td><td>22</td></tr><tr><td>&quot;placeName&quot;</td><td>&quot;Indie&quot;</td><td>14</td></tr><tr><td>&quot;placeName&quot;</td><td>&quot;amerykański&quot;</td><td>13</td></tr><tr><td>&quot;persName&quot;</td><td>&quot;Douglas&quot;</td><td>13</td></tr><tr><td>&quot;orgName&quot;</td><td>&quot;Apple&quot;</td><td>11</td></tr><tr><td>&quot;orgName&quot;</td><td>&quot;ETF&quot;</td><td>10</td></tr><tr><td>&quot;persName&quot;</td><td>&quot;Hamilton&quot;</td><td>8</td></tr><tr><td>&quot;orgName&quot;</td><td>&quot;Roth IRA&quot;</td><td>8</td></tr><tr><td>&quot;date&quot;</td><td>&quot;2015 rok .&quot;</td><td>7</td></tr><tr><td>&quot;orgName&quot;</td><td>&quot;GM&quot;</td><td>7</td></tr><tr><td>&quot;persName&quot;</td><td>&quot;Amazon&quot;</td><td>6</td></tr><tr><td>&quot;orgName&quot;</td><td>&quot;IRA&quot;</td><td>6</td></tr><tr><td>&quot;persName&quot;</td><td>&quot;Facebook&quot;</td><td>5</td></tr><tr><td>&quot;placeName&quot;</td><td>&quot;Bombaj&quot;</td><td>5</td></tr><tr><td>&quot;placeName&quot;</td><td>&quot;Chiny&quot;</td><td>5</td></tr><tr><td>&quot;placeName&quot;</td><td>&quot;Niemcy&quot;</td><td>4</td></tr><tr><td>&quot;date&quot;</td><td>&quot;2010 rok .&quot;</td><td>4</td></tr><tr><td>&quot;orgName&quot;</td><td>&quot;OPEC&quot;</td><td>4</td></tr><tr><td>&quot;placeName&quot;</td><td>&quot;Lobo&quot;</td><td>4</td></tr><tr><td>&quot;persName&quot;</td><td>&quot;Trump&quot;</td><td>4</td></tr><tr><td>&quot;persName&quot;</td><td>&quot;Obama&quot;</td><td>4</td></tr><tr><td>&quot;orgName&quot;</td><td>&quot;Google&quot;</td><td>4</td></tr><tr><td>&quot;orgName&quot;</td><td>&quot;SEC&quot;</td><td>4</td></tr><tr><td>&quot;persName&quot;</td><td>&quot;Fred&quot;</td><td>3</td></tr><tr><td>&quot;placeName&quot;</td><td>&quot;Stany Zjednocz…</td><td>3</td></tr><tr><td>&quot;geogName&quot;</td><td>&quot;europejski&quot;</td><td>3</td></tr><tr><td>&quot;date&quot;</td><td>&quot;2008 rok .&quot;</td><td>3</td></tr><tr><td>&quot;persName&quot;</td><td>&quot;walmart&quot;</td><td>3</td></tr><tr><td>&quot;persName&quot;</td><td>&quot;Rotha&quot;</td><td>3</td></tr><tr><td>&quot;placeName&quot;</td><td>&quot;Twitter&quot;</td><td>3</td></tr><tr><td>&quot;placeName&quot;</td><td>&quot;Anglia&quot;</td><td>3</td></tr><tr><td>&quot;placeName&quot;</td><td>&quot;Szkocja&quot;</td><td>3</td></tr><tr><td>&quot;placeName&quot;</td><td>&quot;Tokio&quot;</td><td>3</td></tr><tr><td>&quot;placeName&quot;</td><td>&quot;Japonia&quot;</td><td>3</td></tr><tr><td>&quot;orgName&quot;</td><td>&quot;NYSE&quot;</td><td>3</td></tr><tr><td>&quot;persName&quot;</td><td>&quot;Larry&#x27;emu&quot;</td><td>3</td></tr><tr><td>&quot;placeName&quot;</td><td>&quot;Cadzow&quot;</td><td>3</td></tr><tr><td>&quot;placeName&quot;</td><td>&quot;Japończyk&quot;</td><td>2</td></tr><tr><td>&quot;orgName&quot;</td><td>&quot;PIN&quot;</td><td>2</td></tr><tr><td>&quot;placeName&quot;</td><td>&quot;Toronto&quot;</td><td>2</td></tr><tr><td>&quot;orgName&quot;</td><td>&quot;TSX&quot;</td><td>2</td></tr><tr><td>&quot;persName&quot;</td><td>&quot;Amex&quot;</td><td>2</td></tr><tr><td>&quot;persName&quot;</td><td>&quot;Hyundai&quot;</td><td>2</td></tr><tr><td>&quot;placeName&quot;</td><td>&quot;brytyjski&quot;</td><td>2</td></tr><tr><td>&quot;orgName&quot;</td><td>&quot;LSE&quot;</td><td>2</td></tr><tr><td>&quot;orgName&quot;</td><td>&quot;IOB&quot;</td><td>2</td></tr><tr><td>&quot;date&quot;</td><td>&quot;2011 rok .&quot;</td><td>2</td></tr><tr><td>&quot;placeName&quot;</td><td>&quot;szwajcarski&quot;</td><td>2</td></tr><tr><td>&quot;date&quot;</td><td>&quot;2014 rok .&quot;</td><td>2</td></tr><tr><td>&quot;date&quot;</td><td>&quot;2013 rok&quot;</td><td>2</td></tr></tbody></table></div>"
      ],
      "text/plain": [
       "shape: (50, 3)\n",
       "┌───────────┬───────────────────┬───────┐\n",
       "│ category  ┆ entity            ┆ count │\n",
       "│ ---       ┆ ---               ┆ ---   │\n",
       "│ str       ┆ str               ┆ i64   │\n",
       "╞═══════════╪═══════════════════╪═══════╡\n",
       "│ placeName ┆ USA               ┆ 22    │\n",
       "│ placeName ┆ Indie             ┆ 14    │\n",
       "│ placeName ┆ amerykański       ┆ 13    │\n",
       "│ persName  ┆ Douglas           ┆ 13    │\n",
       "│ orgName   ┆ Apple             ┆ 11    │\n",
       "│ orgName   ┆ ETF               ┆ 10    │\n",
       "│ persName  ┆ Hamilton          ┆ 8     │\n",
       "│ orgName   ┆ Roth IRA          ┆ 8     │\n",
       "│ date      ┆ 2015 rok .        ┆ 7     │\n",
       "│ orgName   ┆ GM                ┆ 7     │\n",
       "│ persName  ┆ Amazon            ┆ 6     │\n",
       "│ orgName   ┆ IRA               ┆ 6     │\n",
       "│ persName  ┆ Facebook          ┆ 5     │\n",
       "│ placeName ┆ Bombaj            ┆ 5     │\n",
       "│ placeName ┆ Chiny             ┆ 5     │\n",
       "│ placeName ┆ Niemcy            ┆ 4     │\n",
       "│ date      ┆ 2010 rok .        ┆ 4     │\n",
       "│ orgName   ┆ OPEC              ┆ 4     │\n",
       "│ placeName ┆ Lobo              ┆ 4     │\n",
       "│ persName  ┆ Trump             ┆ 4     │\n",
       "│ persName  ┆ Obama             ┆ 4     │\n",
       "│ orgName   ┆ Google            ┆ 4     │\n",
       "│ orgName   ┆ SEC               ┆ 4     │\n",
       "│ persName  ┆ Fred              ┆ 3     │\n",
       "│ placeName ┆ Stany Zjednoczone ┆ 3     │\n",
       "│ geogName  ┆ europejski        ┆ 3     │\n",
       "│ date      ┆ 2008 rok .        ┆ 3     │\n",
       "│ persName  ┆ walmart           ┆ 3     │\n",
       "│ persName  ┆ Rotha             ┆ 3     │\n",
       "│ placeName ┆ Twitter           ┆ 3     │\n",
       "│ placeName ┆ Anglia            ┆ 3     │\n",
       "│ placeName ┆ Szkocja           ┆ 3     │\n",
       "│ placeName ┆ Tokio             ┆ 3     │\n",
       "│ placeName ┆ Japonia           ┆ 3     │\n",
       "│ orgName   ┆ NYSE              ┆ 3     │\n",
       "│ persName  ┆ Larry'emu         ┆ 3     │\n",
       "│ placeName ┆ Cadzow            ┆ 3     │\n",
       "│ placeName ┆ Japończyk         ┆ 2     │\n",
       "│ orgName   ┆ PIN               ┆ 2     │\n",
       "│ placeName ┆ Toronto           ┆ 2     │\n",
       "│ orgName   ┆ TSX               ┆ 2     │\n",
       "│ persName  ┆ Amex              ┆ 2     │\n",
       "│ persName  ┆ Hyundai           ┆ 2     │\n",
       "│ placeName ┆ brytyjski         ┆ 2     │\n",
       "│ orgName   ┆ LSE               ┆ 2     │\n",
       "│ orgName   ┆ IOB               ┆ 2     │\n",
       "│ date      ┆ 2011 rok .        ┆ 2     │\n",
       "│ placeName ┆ szwajcarski       ┆ 2     │\n",
       "│ date      ┆ 2014 rok .        ┆ 2     │\n",
       "│ date      ┆ 2013 rok          ┆ 2     │\n",
       "└───────────┴───────────────────┴───────┘"
      ]
     },
     "execution_count": 32,
     "metadata": {},
     "output_type": "execute_result"
    }
   ],
   "source": [
    "pl.Config.set_tbl_rows(60)\n",
    "data = (df.lazy()\n",
    "        .top_k(50, by=pl.col('count'))\n",
    "        .collect())\n",
    "data"
   ]
  },
  {
   "cell_type": "markdown",
   "metadata": {},
   "source": [
    "# Zadanie 9\n",
    "\n",
    "Display 5 sentences containing at least 2 recognized named entities with different types. Highlight the recognized spans with color. (For demo application Streamlit might be useful for displaying NER results).\n"
   ]
  },
  {
   "cell_type": "code",
   "execution_count": 33,
   "metadata": {},
   "outputs": [],
   "source": [
    "counter = 0\n",
    "sentences = []\n",
    "for doc in joined_doc.sents:\n",
    "    if counter == 5:\n",
    "        break\n",
    "\n",
    "    ents = list(skip_adapter(doc.ents))\n",
    "    if len(ents) < 2:\n",
    "        continue\n",
    "    \n",
    "    counter += 1\n",
    "    sentences.append(doc)"
   ]
  },
  {
   "cell_type": "code",
   "execution_count": 36,
   "metadata": {},
   "outputs": [
    {
     "data": {
      "text/html": [
       "<span class=\"tex2jax_ignore\"><div class=\"entities\" style=\"line-height: 2.5; direction: ltr\">W tym roku, w odniesieniu do \n",
       "<mark class=\"entity\" style=\"background: #ddd; padding: 0.45em 0.6em; margin: 0 0.25em; line-height: 1; border-radius: 0.35em;\">\n",
       "    Wall Street\n",
       "    <span style=\"font-size: 0.8em; font-weight: bold; line-height: 1; border-radius: 0.35em; vertical-align: middle; margin-left: 0.5rem\">geogName</span>\n",
       "</mark>\n",
       ", \n",
       "<mark class=\"entity\" style=\"background: #ddd; padding: 0.45em 0.6em; margin: 0 0.25em; line-height: 1; border-radius: 0.35em;\">\n",
       "    Buffett\n",
       "    <span style=\"font-size: 0.8em; font-weight: bold; line-height: 1; border-radius: 0.35em; vertical-align: middle; margin-left: 0.5rem\">persName</span>\n",
       "</mark>\n",
       " napisał: „Kiedy biliony dolarów są zarządzane przez \n",
       "<mark class=\"entity\" style=\"background: #ddd; padding: 0.45em 0.6em; margin: 0 0.25em; line-height: 1; border-radius: 0.35em;\">\n",
       "    Wall Streeters\n",
       "    <span style=\"font-size: 0.8em; font-weight: bold; line-height: 1; border-radius: 0.35em; vertical-align: middle; margin-left: 0.5rem\">orgName</span>\n",
       "</mark>\n",
       " pobierających wysokie opłaty, zwykle to menedżerowie osiągają ogromne zyski, nie klienci. </div>\n",
       "\n",
       "<div class=\"entities\" style=\"line-height: 2.5; direction: ltr\">Szybkie wyszukiwanie wykazało, że \n",
       "<mark class=\"entity\" style=\"background: #bfe1d9; padding: 0.45em 0.6em; margin: 0 0.25em; line-height: 1; border-radius: 0.35em;\">\n",
       "    31 grudnia 1997 r.\n",
       "    <span style=\"font-size: 0.8em; font-weight: bold; line-height: 1; border-radius: 0.35em; vertical-align: middle; margin-left: 0.5rem\">date</span>\n",
       "</mark>\n",
       " UEP połączył się z \n",
       "<mark class=\"entity\" style=\"background: #ddd; padding: 0.45em 0.6em; margin: 0 0.25em; line-height: 1; border-radius: 0.35em;\">\n",
       "    Ameren\n",
       "    <span style=\"font-size: 0.8em; font-weight: bold; line-height: 1; border-radius: 0.35em; vertical-align: middle; margin-left: 0.5rem\">persName</span>\n",
       "</mark>\n",
       " i \n",
       "<mark class=\"entity\" style=\"background: #ddd; padding: 0.45em 0.6em; margin: 0 0.25em; line-height: 1; border-radius: 0.35em;\">\n",
       "    Ameren\n",
       "    <span style=\"font-size: 0.8em; font-weight: bold; line-height: 1; border-radius: 0.35em; vertical-align: middle; margin-left: 0.5rem\">persName</span>\n",
       "</mark>\n",
       " istnieje do dziś. </div>\n",
       "\n",
       "<div class=\"entities\" style=\"line-height: 2.5; direction: ltr\">Odwiedź stronę http://www.towing-delrey.com/ lub zadzwoń pod numer: 213-328-3676 Najlepsze i wysokiej jakości holowanie w \n",
       "<mark class=\"entity\" style=\"background: #ddd; padding: 0.45em 0.6em; margin: 0 0.25em; line-height: 1; border-radius: 0.35em;\">\n",
       "    Marina\n",
       "    <span style=\"font-size: 0.8em; font-weight: bold; line-height: 1; border-radius: 0.35em; vertical-align: middle; margin-left: 0.5rem\">placeName</span>\n",
       "</mark>\n",
       " Del Rey, \n",
       "<mark class=\"entity\" style=\"background: #ddd; padding: 0.45em 0.6em; margin: 0 0.25em; line-height: 1; border-radius: 0.35em;\">\n",
       "    Holowanie Marina\n",
       "    <span style=\"font-size: 0.8em; font-weight: bold; line-height: 1; border-radius: 0.35em; vertical-align: middle; margin-left: 0.5rem\">placeName</span>\n",
       "</mark>\n",
       " Del \n",
       "<mark class=\"entity\" style=\"background: #ddd; padding: 0.45em 0.6em; margin: 0 0.25em; line-height: 1; border-radius: 0.35em;\">\n",
       "    Rey\n",
       "    <span style=\"font-size: 0.8em; font-weight: bold; line-height: 1; border-radius: 0.35em; vertical-align: middle; margin-left: 0.5rem\">persName</span>\n",
       "</mark>\n",
       " może być najlepszą firmą do wyboru. </div>\n",
       "\n",
       "<div class=\"entities\" style=\"line-height: 2.5; direction: ltr\">Aby zostać milionerem do \n",
       "<mark class=\"entity\" style=\"background: #bfe1d9; padding: 0.45em 0.6em; margin: 0 0.25em; line-height: 1; border-radius: 0.35em;\">\n",
       "    2057 r.\n",
       "    <span style=\"font-size: 0.8em; font-weight: bold; line-height: 1; border-radius: 0.35em; vertical-align: middle; margin-left: 0.5rem\">date</span>\n",
       "</mark>\n",
       ", trzeba zaoszczędzić 25 000 euro rocznie w \n",
       "<mark class=\"entity\" style=\"background: #bfe1d9; padding: 0.45em 0.6em; margin: 0 0.25em; line-height: 1; border-radius: 0.35em;\">\n",
       "    2057\n",
       "    <span style=\"font-size: 0.8em; font-weight: bold; line-height: 1; border-radius: 0.35em; vertical-align: middle; margin-left: 0.5rem\">date</span>\n",
       "</mark>\n",
       " euro, co daje 11 322 euro w \n",
       "<mark class=\"entity\" style=\"background: #bfe1d9; padding: 0.45em 0.6em; margin: 0 0.25em; line-height: 1; border-radius: 0.35em;\">\n",
       "    2017 r.\n",
       "    <span style=\"font-size: 0.8em; font-weight: bold; line-height: 1; border-radius: 0.35em; vertical-align: middle; margin-left: 0.5rem\">date</span>\n",
       "</mark>\n",
       " </div>\n",
       "\n",
       "<div class=\"entities\" style=\"line-height: 2.5; direction: ltr\">Kiedy korzystasz z \n",
       "<mark class=\"entity\" style=\"background: #ddd; padding: 0.45em 0.6em; margin: 0 0.25em; line-height: 1; border-radius: 0.35em;\">\n",
       "    Facebooka\n",
       "    <span style=\"font-size: 0.8em; font-weight: bold; line-height: 1; border-radius: 0.35em; vertical-align: middle; margin-left: 0.5rem\">persName</span>\n",
       "</mark>\n",
       ", tak naprawdę nie jesteś jednym z klientów \n",
       "<mark class=\"entity\" style=\"background: #ddd; padding: 0.45em 0.6em; margin: 0 0.25em; line-height: 1; border-radius: 0.35em;\">\n",
       "    Facebooka\n",
       "    <span style=\"font-size: 0.8em; font-weight: bold; line-height: 1; border-radius: 0.35em; vertical-align: middle; margin-left: 0.5rem\">persName</span>\n",
       "</mark>\n",
       "; zamiast tego \n",
       "<mark class=\"entity\" style=\"background: #ddd; padding: 0.45em 0.6em; margin: 0 0.25em; line-height: 1; border-radius: 0.35em;\">\n",
       "    Facebook\n",
       "    <span style=\"font-size: 0.8em; font-weight: bold; line-height: 1; border-radius: 0.35em; vertical-align: middle; margin-left: 0.5rem\">orgName</span>\n",
       "</mark>\n",
       " sprzedaje Twoją uwagę reklamodawcom. </div></span>"
      ],
      "text/plain": [
       "<IPython.core.display.HTML object>"
      ]
     },
     "metadata": {},
     "output_type": "display_data"
    }
   ],
   "source": [
    "spacy.displacy.render(sentences, style='ent', jupyter=True)\n",
    "\n",
    "# WKLEJAM TEŻ SCREENSHOTA POD SPODEM, BO NIE CHCIAŁO WYRENDEROWAĆ SIĘ DO PDFA"
   ]
  },
  {
   "cell_type": "markdown",
   "metadata": {},
   "source": [
    "![Alt text](image.png)"
   ]
  },
  {
   "cell_type": "markdown",
   "metadata": {},
   "source": [
    "# Pytania\n",
    "\n",
    "1. Which of the method (counting expressions with capital letters vs. NER) worked better for the task concerned with identification of the proper names?\n",
    "\n",
    "Nie prowadziłem metryk jakościowych ani ilościowych, moja opinia oparta jest na \"wrażeniu\". Mimo wszystko wskazuję na przewagę Spacy'ego, choć bardzo nie znaczną.\n",
    "Nawet jeżeli popatrzymy na te kilka zdań w komórce wyżej, widzimy, że nie jest on w stanie rozpoznać nazw własnych poprawnie / dzieli je na części, np. \"Marina Del Rey\" <-- metoda z wyszukiwaniem po wielkich literach w tym przypadku akurat poradziła sobie dobrze.\n",
    "\n",
    "\n",
    "2. What are the drawbacks of the method based on capital letters?\n",
    "\n",
    "Jest to naiwna metoda. Zakłada ona, że tekst będzie napisany poprawnie, nie bierze ona pod uwagę języka: co będzie z rzeczownikami w niemieckim?! Albo co, gdy ktoś pisał z CapsLockiem? ;D Do tego pomijamy wszystkie nazwy własne,\n",
    "które występują jednak na pierwszej pozycji w zdaniu.\n",
    "\n",
    "\n",
    "3. What are the drawbacks of the method based on NER?\n",
    "\n",
    "Jest ona również daleko od bycia zupełnie poprawną. Widzimy problem z \"entity linking\", tzn. nie rozpoznawaniem że chodzi o ten sam obiekt, tylko odnosimy się do niego inaczej. Widzimy problem z rodzielanymi nazwami własnymi (koronny przykład z \"Marina Del Rey\"),\n",
    "widzimy po prostu błędne kategoryzowanie (w przypadku pierwszej metody w ogóle nie mieliśmy kategorii...) np. Facebook raz jako `orgName`, a raz jako `persName`.\n",
    "\n",
    "\n",
    "4. Which of the coarse-grained NER groups has the best and which has the worst results? Try to justify this observation.\n",
    "\n",
    "Patrząc na tabelkę przygotowaną do zadania 8, możemy wysnuć wnioski, że źle to działa szczególnie dla nazw organiacji / miejsc, w tym sensie, że potrafi całkowicie niepasujące rzeczy regularnie kwalifikować do błędnej kategorii (patrz: \"amerykański\" jako miejsce).\n",
    "Działa to sensownie do dat.\n",
    "\n",
    "5. Do you think NER is sufficient for identifying different occurrences of the same entity (i.e. consider \"USA\" and \"Stany Zjednoczone\" and \"Stany Zjednoczone Ameryki Północnej\")? If not, can you suggest an algorithm or a tool that would be able to group such names together?\n",
    "\n",
    "O, jak wspomniałem w odpowiedzi do (3), nie działa to zbyt dobrze. Pierwszym co przychodzi do głowy jest trenowanie modelu przeznaczonego do tego celu / posiadanie ogromnej bazy wiedzy w której moglibyśmy podglądać czy chodzi o to samo, a w przypadkach których nie znamy interpolować modelem.\n",
    "\n",
    "6. Can you think of a real world problem that would benefit the most from application of Named Entity Recognition algorithm?\n",
    "\n",
    "Myślę, że dało by się to wykorzystać np. do filtrowania / grupowania dokumentów na podstawie treści których dotyczą, albo np. grupowania zgłoszeń klientów (reklamacji) na podstawie konkretnego opisu usterek (gdyby tego używać do wykrywania innych kategorii niż `name`, `date`, etc.)\n"
   ]
  }
 ],
 "metadata": {
  "kernelspec": {
   "display_name": "Python 3 (ipykernel)",
   "language": "python",
   "name": "python3"
  },
  "language_info": {
   "codemirror_mode": {
    "name": "ipython",
    "version": 3
   },
   "file_extension": ".py",
   "mimetype": "text/x-python",
   "name": "python",
   "nbconvert_exporter": "python",
   "pygments_lexer": "ipython3",
   "version": "3.11.6"
  }
 },
 "nbformat": 4,
 "nbformat_minor": 4
}
